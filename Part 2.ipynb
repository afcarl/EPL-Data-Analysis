{
 "cells": [
  {
   "cell_type": "code",
   "execution_count": null,
   "metadata": {
    "collapsed": true
   },
   "outputs": [],
   "source": [
    "# I decided to compare Sunderland to teams with similar net spend and time\n",
    "# spent in the Premier League over the period 2008-2016\n",
    "# After consulting the chart in the website below I chose Stoke and West Ham.\n",
    "\n",
    "# http://www.transferleague.co.uk/premier-league-2003-to-date/\n",
    "# transfer-league-tables/premier-league-table-2003-to-date\n",
    "\n",
    "# After running the code used in the first analysis here are the charts I obtained.\n",
    "# Due to plotting issues I uploaded the files to imgur."
   ]
  },
  {
   "cell_type": "code",
   "execution_count": 3,
   "metadata": {
    "collapsed": false
   },
   "outputs": [],
   "source": [
    "# Stoke total season points http://i.imgur.com/h1vHsgQ.png\n",
    "# Stoke season breakdown http://i.imgur.com/bXXtJ6z.png\n",
    "\n",
    "# West Ham total season points http://i.imgur.com/zoykFz7.png\n",
    "# West Ham season breakdown http://i.imgur.com/oeMLsrU.png"
   ]
  },
  {
   "cell_type": "code",
   "execution_count": null,
   "metadata": {
    "collapsed": true
   },
   "outputs": [],
   "source": [
    "# 08/09, 14/15 and 15/16 were very successful seasons for West Ham. Over this period West Ham\n",
    "# and Sunderland achieved the 'magical' 40 points required for safety four times and three\n",
    "# times respectively. West Ham have generally outperformed Sunderland over this period\n",
    "# paticularly last season when the two team's enjoyed starkly different seasons. The one\n",
    "# noteable exception to this trend was 10-11 when West Ham were relegated and Sunderland\n",
    "# achieved their highest points total for the period. Interestingly Sunderland managed to stay \n",
    "# up in 08/09 with a points total only 3 higher than West Ham's relegation season.\n",
    "\n",
    "# West Ham's season breakdown shows the club to have had fairly varied seasons. Likewise for\n",
    "# Sunderland. The inconsistency of the two clubs can be seen in the graphs. West Ham have\n",
    "# enjoyed more exceptional quarters to a season, paticularly last year when they managed to earn\n",
    "# 20 points in the first and third quarters of the season. In contrast Sunderland have suffered\n",
    "# slightly more slumps than West Ham, but vitally never as bad as the fatally poor final quarter\n",
    "# of West Ham's 10-11 relegation season. More dispiriting from a Sunderland fan's point of\n",
    "# view is that the majority of West Ham's slumps have occured during their pre-relegation days\n",
    "# whereas Sunderland's have came in the past three seasons. Given the net spend and amount of \n",
    "# managerial changes of the two clubs over this period this suggests West Ham are the more\n",
    "# successful and better run club of the two."
   ]
  },
  {
   "cell_type": "code",
   "execution_count": null,
   "metadata": {
    "collapsed": true
   },
   "outputs": [],
   "source": [
    "# Throughout the period Stoke have outperformed Sunderland. Every season saw Stoke achieve 40 \n",
    "# points or more. Crucially this total was always met with at least a few games left\n",
    "# sparing Stoke the relegation dogfights that have plagued Sunderland's time in the EPL. \n",
    "# Furthermore, Stoke's highest total points for a seaosn is larger than Sunderland's.\n",
    "\n",
    "# As we saw with the two other sides Stoke's seasons have been varied and they have struggled\n",
    "# for consistency. Given the money spent by all three clubs and the level of competition in \n",
    "# this is somewhat to be expected. One salient point from the graph is the 12/13 season when \n",
    "# Stoke bizarrely followed their best quarter of the whole period with their worst period!\n",
    "\n",
    "# In conclusion we can say that Sunderland has been outperformed by both clubs throughout this \n",
    "# period, with the season when West Ham were relegated being the exception. Sunderland's\n",
    "# frequent managerial changes, poor handling of the transfer market and location are often \n",
    "# suggested as the probable causes."
   ]
  }
 ],
 "metadata": {
  "anaconda-cloud": {},
  "kernelspec": {
   "display_name": "Python [Root]",
   "language": "python",
   "name": "Python [Root]"
  },
  "language_info": {
   "codemirror_mode": {
    "name": "ipython",
    "version": 3
   },
   "file_extension": ".py",
   "mimetype": "text/x-python",
   "name": "python",
   "nbconvert_exporter": "python",
   "pygments_lexer": "ipython3",
   "version": "3.5.2"
  }
 },
 "nbformat": 4,
 "nbformat_minor": 0
}
